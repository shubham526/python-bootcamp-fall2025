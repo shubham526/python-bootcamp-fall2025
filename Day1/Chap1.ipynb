{
 "cells": [
  {
   "cell_type": "markdown",
   "metadata": {},
   "source": [
    "# Chapter 2: Variables, Simple Data, and Types\n",
    "\n",
    "In this chapter, you’ll learn about the different kinds of data you can work with in your Python programs. You’ll also learn how to use **variables** to represent data in your programs."
   ]
  },
  {
   "cell_type": "markdown",
   "metadata": {},
   "source": [
    "## What Really Happens When You Run a Program?\n",
    "\n",
    "Let’s take a closer look at what Python does when you run a simple program. Python does a fair amount of work, even with just one line of code."
   ]
  },
  {
   "cell_type": "code",
   "execution_count": null,
   "metadata": {},
   "outputs": [],
   "source": [
    "# The .py ending of a file indicates it's a Python program.\n",
    "# Your editor runs the file through the Python interpreter, which reads and understands the code.\n",
    "\n",
    "# When the interpreter sees the word print followed by parentheses, \n",
    "# it prints whatever is inside the parentheses to the screen.\n",
    "print(\"Hello Python world!\")"
   ]
  },
  {
   "cell_type": "markdown",
   "metadata": {},
   "source": [
    "### Syntax Highlighting\n",
    "As you write programs, your code editor highlights different parts of your program in different ways. For example, it recognizes that `print()` is a **function** and displays it in one color. It sees that `\"Hello Python world!\"` is a **string** (not Python code) and displays it in another color. This feature is called **syntax highlighting** and is very useful."
   ]
  },
  {
   "cell_type": "markdown",
   "metadata": {},
   "source": [
    "--- \n",
    "## Variables\n",
    "\n",
    "A **variable** is a name that refers to a value. The value is the information associated with that variable. Let's add a variable to our program."
   ]
  },
  {
   "cell_type": "code",
   "execution_count": null,
   "metadata": {},
   "outputs": [],
   "source": [
    "# 1. We add a variable named 'message'.\n",
    "# 2. The value \"Hello Python world!\" is assigned to the variable 'message'.\n",
    "message = \"Hello Python world!\"\n",
    "\n",
    "# 3. When the interpreter reaches this line, it prints the value associated with 'message'.\n",
    "print(message)"
   ]
  },
  {
   "cell_type": "markdown",
   "metadata": {},
   "source": [
    "You can change the value of a variable in your program at any time, and Python will always keep track of its current value."
   ]
  },
  {
   "cell_type": "code",
   "execution_count": null,
   "metadata": {},
   "outputs": [],
   "source": [
    "message = \"Hello Python world!\"\n",
    "print(message)\n",
    "\n",
    "# The value of 'message' is changed here.\n",
    "message = \"Hello Python Crash Course world!\"\n",
    "print(message)"
   ]
  },
  {
   "cell_type": "markdown",
   "metadata": {},
   "source": [
    "### Naming and Using Variables\n",
    "\n",
    "When you use variables in Python, you need to follow a few rules and guidelines.\n",
    "\n",
    "**Rules (breaking these will cause errors):**\n",
    "* Variable names can only contain **letters, numbers, and underscores**. They can start with a letter or an underscore, but **not with a number**.\n",
    "    * `message_1` is valid, but `1_message` is not.\n",
    "* **Spaces are not allowed** in variable names. Use underscores to separate words.\n",
    "    * `greeting_message` is valid, but `greeting message` is not.\n",
    "* Avoid using **Python keywords and function names** as variable names (e.g., `print`, `for`, `if`).\n",
    "\n",
    "**Guidelines (for readability):**\n",
    "* Variable names should be **short but descriptive**.\n",
    "    * `student_name` is better than `s_n`.\n",
    "* Be careful with the lowercase letter `l` and uppercase `O`, as they can be confused with the numbers `1` and `0`.\n",
    "* Use **lowercase** for your variables. (Uppercase letters have special meanings we'll cover later)."
   ]
  },
  {
   "cell_type": "markdown",
   "metadata": {},
   "source": [
    "### Avoiding Name Errors When Using Variables\n",
    "\n",
    "A common early error is the `NameError`. This usually means you either forgot to assign a value to a variable or you made a spelling mistake. When this happens, the Python interpreter provides a **traceback** to help you find the problem."
   ]
  },
  {
   "cell_type": "code",
   "execution_count": null,
   "metadata": {},
   "outputs": [],
   "source": [
    "# Let's write some code that creates an error on purpose.\n",
    "# Notice 'mesage' is misspelled in the print() call.\n",
    "\n",
    "message = \"Hello Python Crash Course reader!\"\n",
    "print(mesage)"
   ]
  },
  {
   "cell_type": "markdown",
   "metadata": {},
   "source": [
    "The traceback shows:\n",
    "1.  The file and line number where the error occurred (`line 4`).\n",
    "2.  The line of code that caused the problem (`print(mesage)`).\n",
    "3.  The type of error and a description (`NameError: name 'mesage' is not defined`).\n",
    "\n",
    "Python is strict about spelling. If you spell the variable name consistently, even if it's an English typo, the program will run."
   ]
  },
  {
   "cell_type": "code",
   "execution_count": null,
   "metadata": {},
   "outputs": [],
   "source": [
    "# Here, the variable is consistently named 'mesage', so the code works.\n",
    "mesage = \"Hello Python Crash Course reader!\"\n",
    "print(mesage)"
   ]
  },
  {
   "cell_type": "markdown",
   "metadata": {},
   "source": [
    "### Variables Are Labels\n",
    "\n",
    "It's helpful to think of variables not as boxes, but as **labels** that you can assign to values. A variable *references* a certain value."
   ]
  },
  {
   "cell_type": "markdown",
   "metadata": {},
   "source": [
    "--- \n",
    "### ✏️ Try It Yourself\n",
    "\n",
    "**2-1. Simple Message:** Assign a message to a variable, and then print that message."
   ]
  },
  {
   "cell_type": "code",
   "execution_count": null,
   "metadata": {},
   "outputs": [],
   "source": [
    "# Write your code here for 2-1"
   ]
  },
  {
   "cell_type": "markdown",
   "metadata": {},
   "source": [
    "**2-2. Simple Messages:** Assign a message to a variable, and print that message. Then change the value of the variable to a new message, and print the new message."
   ]
  },
  {
   "cell_type": "code",
   "execution_count": null,
   "metadata": {},
   "outputs": [],
   "source": [
    "# Write your code here for 2-2"
   ]
  },
  {
   "cell_type": "markdown",
   "metadata": {},
   "source": [
    "--- \n",
    "## Strings\n",
    "\n",
    "The first data type we'll look at is the **string**. A string is simply a series of characters. Anything inside quotes in Python is a string.\n",
    "\n",
    "You can use either single (`'`) or double (`\"`) quotes. This flexibility lets you include quotes and apostrophes within your strings easily."
   ]
  },
  {
   "cell_type": "code",
   "execution_count": null,
   "metadata": {},
   "outputs": [],
   "source": [
    "string_1 = 'I told my friend, \"Python is my favorite language!\"'\n",
    "print(string_1)\n",
    "\n",
    "string_2 = \"One of Python's strengths is its diverse and supportive community.\"\n",
    "print(string_2)"
   ]
  },
  {
   "cell_type": "markdown",
   "metadata": {},
   "source": [
    "### Changing Case in a String with Methods\n",
    "\n",
    "A **method** is an action that Python can perform on a piece of data. You call a method on a variable using a dot (`.`).\n",
    "\n",
    "The `title()` method changes each word to title case (the first letter is capitalized)."
   ]
  },
  {
   "cell_type": "code",
   "execution_count": null,
   "metadata": {},
   "outputs": [],
   "source": [
    "name = \"ada lovelace\"\n",
    "print(name.title())"
   ]
  },
  {
   "cell_type": "markdown",
   "metadata": {},
   "source": [
    "Other useful case methods are `upper()` and `lower()`."
   ]
  },
  {
   "cell_type": "code",
   "execution_count": null,
   "metadata": {},
   "outputs": [],
   "source": [
    "name = \"Ada Lovelace\"\n",
    "\n",
    "# Convert the string to all uppercase\n",
    "print(name.upper())\n",
    "\n",
    "# Convert the string to all lowercase\n",
    "print(name.lower())"
   ]
  },
  {
   "cell_type": "markdown",
   "metadata": {},
   "source": [
    "The `lower()` method is very useful for storing data, as you often want to store text in a consistent format regardless of how a user enters it."
   ]
  },
  {
   "cell_type": "markdown",
   "metadata": {},
   "source": [
    "### Using Variables in Strings\n",
    "\n",
    "To insert a variable’s value into a string, you can create an **f-string** (format-string). You do this by putting the letter `f` immediately before the opening quotation mark. Then, you can put any variable name in braces `{}` inside the string, and Python will replace it with its value."
   ]
  },
  {
   "cell_type": "code",
   "execution_count": null,
   "metadata": {},
   "outputs": [],
   "source": [
    "first_name = \"ada\"\n",
    "last_name = \"lovelace\"\n",
    "\n",
    "# Create the full name using an f-string.\n",
    "full_name = f\"{first_name} {last_name}\"\n",
    "\n",
    "print(full_name)"
   ]
  },
  {
   "cell_type": "markdown",
   "metadata": {},
   "source": [
    "You can use f-strings to compose complete messages. You can even call methods on the variables inside the f-string."
   ]
  },
  {
   "cell_type": "code",
   "execution_count": null,
   "metadata": {},
   "outputs": [],
   "source": [
    "first_name = \"ada\"\n",
    "last_name = \"lovelace\"\n",
    "full_name = f\"{first_name} {last_name}\"\n",
    "\n",
    "# Use the f-string to compose a greeting, and apply the title() method.\n",
    "print(f\"Hello, {full_name.title()}!\")"
   ]
  },
  {
   "cell_type": "markdown",
   "metadata": {},
   "source": [
    "You can also assign the entire f-string to a variable."
   ]
  },
  {
   "cell_type": "code",
   "execution_count": null,
   "metadata": {},
   "outputs": [],
   "source": [
    "first_name = \"ada\"\n",
    "last_name = \"lovelace\"\n",
    "full_name = f\"{first_name} {last_name}\"\n",
    "\n",
    "# Assign the entire message to a variable.\n",
    "message = f\"Hello, {full_name.title()}!\"\n",
    "print(message)"
   ]
  },
  {
   "cell_type": "markdown",
   "metadata": {},
   "source": [
    "> **Note:** F-strings were introduced in Python 3.6. For older versions, the `format()` method is used:\n",
    "> `full_name = \"{} {}\".format(first_name, last_name)`"
   ]
  },
  {
   "cell_type": "markdown",
   "metadata": {},
   "source": [
    "### Adding Whitespace to Strings with Tabs or Newlines\n",
    "\n",
    "In programming, **whitespace** refers to any non-printing character, such as spaces, tabs, and end-of-line symbols.\n",
    "\n",
    "* To add a **tab**, use the character combination `\\t`.\n",
    "* To add a **newline**, use the character combination `\\n`."
   ]
  },
  {
   "cell_type": "code",
   "execution_count": null,
   "metadata": {},
   "outputs": [],
   "source": [
    "# Add a tab\n",
    "print(\"Python\")\n",
    "print(\"\\tPython\")"
   ]
  },
  {
   "cell_type": "code",
   "execution_count": null,
   "metadata": {},
   "outputs": [],
   "source": [
    "# Add newlines\n",
    "print(\"Languages:\\nPython\\nC\\nJavaScript\")"
   ]
  },
  {
   "cell_type": "code",
   "execution_count": null,
   "metadata": {},
   "outputs": [],
   "source": [
    "# Combine tabs and newlines\n",
    "print(\"Languages:\\n\\tPython\\n\\tC\\n\\tJavaScript\")"
   ]
  },
  {
   "cell_type": "markdown",
   "metadata": {},
   "source": [
    "### Stripping Whitespace\n",
    "\n",
    "Extra whitespace can be confusing for a program. `'python'` and `'python '` are two different strings. Python provides methods to remove extra whitespace.\n",
    "\n",
    "* `rstrip()`: Strips whitespace from the **right** side.\n",
    "* `lstrip()`: Strips whitespace from the **left** side.\n",
    "* `strip()`: Strips whitespace from **both** sides."
   ]
  },
  {
   "cell_type": "code",
   "execution_count": null,
   "metadata": {},
   "outputs": [],
   "source": [
    "favorite_language = 'python ' # Note the space on the right\n",
    "\n",
    "print(f\"'{favorite_language}'\")\n",
    "\n",
    "# Using rstrip() removes the space, but only temporarily.\n",
    "print(f\"'{favorite_language.rstrip()}'\")\n",
    "\n",
    "# The original variable is unchanged.\n",
    "print(f\"'{favorite_language}'\")"
   ]
  },
  {
   "cell_type": "markdown",
   "metadata": {},
   "source": [
    "To remove the whitespace from the string permanently, you have to reassign the stripped value back to the variable."
   ]
  },
  {
   "cell_type": "code",
   "execution_count": null,
   "metadata": {},
   "outputs": [],
   "source": [
    "favorite_language = 'python '\n",
    "\n",
    "# Assign the stripped value back to the variable\n",
    "favorite_language = favorite_language.rstrip()\n",
    "\n",
    "# Now the change is permanent\n",
    "print(f\"'{favorite_language}'\")"
   ]
  },
  {
   "cell_type": "code",
   "execution_count": null,
   "metadata": {},
   "outputs": [],
   "source": [
    "# Demonstrating all three stripping methods\n",
    "favorite_language = ' python ' # Whitespace on both sides\n",
    "\n",
    "print(f\"Original: '{favorite_language}'\")\n",
    "print(f\"Using rstrip(): '{favorite_language.rstrip()}'\")\n",
    "print(f\"Using lstrip(): '{favorite_language.lstrip()}'\")\n",
    "print(f\"Using strip(): '{favorite_language.strip()}'\")"
   ]
  },
  {
   "cell_type": "markdown",
   "metadata": {},
   "source": [
    "### Avoiding Syntax Errors with Strings\n",
    "\n",
    "A **syntax error** occurs when Python doesn’t recognize a section of your program as valid Python code. A common syntax error is using an apostrophe within a string that is defined with single quotes."
   ]
  },
  {
   "cell_type": "code",
   "execution_count": null,
   "metadata": {},
   "outputs": [],
   "source": [
    "# This causes a SyntaxError because Python thinks the string ends after 'Python'.\n",
    "message = 'One of Python's strengths is its diverse community.'"
   ]
  },
  {
   "cell_type": "markdown",
   "metadata": {},
   "source": [
    "The syntax highlighting in your editor can often help you spot these errors. To fix it, use double quotes for the outer string."
   ]
  },
  {
   "cell_type": "code",
   "execution_count": null,
   "metadata": {},
   "outputs": [],
   "source": [
    "# This works correctly.\n",
    "message = \"One of Python's strengths is its diverse community.\"\n",
    "print(message)"
   ]
  },
  {
   "cell_type": "markdown",
   "metadata": {},
   "source": [
    "--- \n",
    "### ✏️ Try It Yourself\n",
    "\n",
    "**2-3. Personal Message:** Use a variable to represent a person’s name, and print a message to that person. Your message should be simple, such as, “Hello Eric, would you like to learn some Python today?”"
   ]
  },
  {
   "cell_type": "code",
   "execution_count": null,
   "metadata": {},
   "outputs": [],
   "source": [
    "# Write your code here for 2-3"
   ]
  },
  {
   "cell_type": "markdown",
   "metadata": {},
   "source": [
    "**2-4. Name Cases:** Use a variable to represent a person’s name, and then print that person’s name in lowercase, uppercase, and title case."
   ]
  },
  {
   "cell_type": "code",
   "execution_count": null,
   "metadata": {},
   "outputs": [],
   "source": [
    "# Write your code here for 2-4"
   ]
  },
  {
   "cell_type": "markdown",
   "metadata": {},
   "source": [
    "**2-5. Famous Quote:** Find a quote from a famous person you admire. Print the quote and the name of its author. Your output should look something like the following, including the quotation marks:\n",
    "\n",
    "`Albert Einstein once said, “A person who never made a mistake never tried anything new.”`"
   ]
  },
  {
   "cell_type": "code",
   "execution_count": null,
   "metadata": {},
   "outputs": [],
   "source": [
    "# Write your code here for 2-5"
   ]
  },
  {
   "cell_type": "markdown",
   "metadata": {},
   "source": [
    "**2-6. Famous Quote 2:** Repeat Exercise 2-5, but this time, represent the famous person’s name using a variable called `famous_person`. Then compose your message and represent it with a new variable called `message`. Print your message."
   ]
  },
  {
   "cell_type": "code",
   "execution_count": null,
   "metadata": {},
   "outputs": [],
   "source": [
    "# Write your code here for 2-6"
   ]
  },
  {
   "cell_type": "markdown",
   "metadata": {},
   "source": [
    "**2-7. Stripping Names:** Use a variable to represent a person’s name, and include some whitespace characters at the beginning and end of the name. Make sure you use each character combination, `\"\\t\"` and `\"\\n\"`, at least once.\n",
    "\n",
    "Print the name once, so the whitespace around the name is displayed. Then print the name using each of the three stripping functions, `lstrip()`, `rstrip()`, and `strip()`."
   ]
  },
  {
   "cell_type": "code",
   "execution_count": null,
   "metadata": {},
   "outputs": [],
   "source": [
    "# Write your code here for 2-7"
   ]
  },
  {
   "cell_type": "markdown",
   "metadata": {},
   "source": [
    "--- \n",
    "## Numbers\n",
    "\n",
    "Numbers are used frequently in programming. Python treats numbers in several different ways.\n",
    "\n",
    "### Integers\n",
    "\n",
    "You can add (`+`), subtract (`-`), multiply (`*`), and divide (`/`) integers in Python."
   ]
  },
  {
   "cell_type": "code",
   "execution_count": null,
   "metadata": {},
   "outputs": [],
   "source": [
    "print(2 + 3)\n",
    "print(3 - 2)\n",
    "print(2 * 3)\n",
    "print(3 / 2)"
   ]
  },
  {
   "cell_type": "markdown",
   "metadata": {},
   "source": [
    "Python uses two multiplication symbols (`**`) to represent exponents."
   ]
  },
  {
   "cell_type": "code",
   "execution_count": null,
   "metadata": {},
   "outputs": [],
   "source": [
    "print(3 ** 2)  # 3 to the power of 2\n",
    "print(3 ** 3)\n",
    "print(10 ** 6)"
   ]
  },
  {
   "cell_type": "markdown",
   "metadata": {},
   "source": [
    "Python also supports the order of operations. You can use parentheses `()` to modify the order."
   ]
  },
  {
   "cell_type": "code",
   "execution_count": null,
   "metadata": {},
   "outputs": [],
   "source": [
    "print(2 + 3 * 4)  # Multiplication is done first\n",
    "print((2 + 3) * 4) # Parentheses are evaluated first"
   ]
  },
  {
   "cell_type": "markdown",
   "metadata": {},
   "source": [
    "### Floats\n",
    "\n",
    "Python calls any number with a decimal point a **float**. For the most part, you can use decimals without worrying about how they behave."
   ]
  },
  {
   "cell_type": "code",
   "execution_count": null,
   "metadata": {},
   "outputs": [],
   "source": [
    "print(0.1 + 0.1)\n",
    "print(0.2 + 0.2)\n",
    "print(2 * 0.1)\n",
    "print(2 * 0.2)"
   ]
  },
  {
   "cell_type": "markdown",
   "metadata": {},
   "source": [
    "Be aware that you can sometimes get an arbitrary number of decimal places in your answer. This happens in all languages because of how computers represent numbers internally. For now, you can just ignore the extra decimal places."
   ]
  },
  {
   "cell_type": "code",
   "execution_count": null,
   "metadata": {},
   "outputs": [],
   "source": [
    "print(0.2 + 0.1)\n",
    "print(3 * 0.1)"
   ]
  },
  {
   "cell_type": "markdown",
   "metadata": {},
   "source": [
    "### Integers and Floats\n",
    "\n",
    "When you divide any two numbers, you will always get a float, even if the result is a whole number."
   ]
  },
  {
   "cell_type": "code",
   "execution_count": null,
   "metadata": {},
   "outputs": [],
   "source": [
    "print(4 / 2)"
   ]
  },
  {
   "cell_type": "markdown",
   "metadata": {},
   "source": [
    "If you mix an integer and a float in any other operation, you’ll also get a float."
   ]
  },
  {
   "cell_type": "code",
   "execution_count": null,
   "metadata": {},
   "outputs": [],
   "source": [
    "print(1 + 2.0)\n",
    "print(2 * 3.0)\n",
    "print(3.0 ** 2)"
   ]
  },
  {
   "cell_type": "markdown",
   "metadata": {},
   "source": [
    "### Underscores in Numbers\n",
    "\n",
    "When writing long numbers, you can group digits using underscores to make them more readable. Python ignores the underscores when storing the values. (This feature is available in Python 3.6 and later)."
   ]
  },
  {
   "cell_type": "code",
   "execution_count": null,
   "metadata": {},
   "outputs": [],
   "source": [
    "universe_age = 14_000_000_000\n",
    "print(universe_age)"
   ]
  },
  {
   "cell_type": "markdown",
   "metadata": {},
   "source": [
    "### Multiple Assignment\n",
    "\n",
    "You can assign values to more than one variable in a single line. This can help shorten your programs."
   ]
  },
  {
   "cell_type": "code",
   "execution_count": null,
   "metadata": {},
   "outputs": [],
   "source": [
    "# Initialize x, y, and z all to 0\n",
    "x, y, z = 0, 0, 0\n",
    "\n",
    "print(x)\n",
    "print(y)\n",
    "print(z)"
   ]
  },
  {
   "cell_type": "markdown",
   "metadata": {},
   "source": [
    "### Constants\n",
    "\n",
    "A **constant** is like a variable whose value stays the same throughout the life of a program. Python doesn’t have built-in constant types, but programmers use all **capital letters** to indicate a variable should be treated as a constant and never be changed."
   ]
  },
  {
   "cell_type": "code",
   "execution_count": null,
   "metadata": {},
   "outputs": [],
   "source": [
    "# By convention, this variable should not be changed.\n",
    "MAX_CONNECTIONS = 5000"
   ]
  },
  {
   "cell_type": "markdown",
   "metadata": {},
   "source": [
    "--- \n",
    "### ✏️ Try It Yourself\n",
    "\n",
    "**2-8. Number Eight:** Write addition, subtraction, multiplication, and division operations that each result in the number 8. Be sure to enclose your operations in `print()` calls to see the results. You should create four lines that look like this:\n",
    "\n",
    "`print(5+3)`"
   ]
  },
  {
   "cell_type": "code",
   "execution_count": null,
   "metadata": {},
   "outputs": [],
   "source": [
    "# Write your code here for 2-8"
   ]
  },
  {
   "cell_type": "markdown",
   "metadata": {},
   "source": [
    "**2-9. Favorite Number:** Use a variable to represent your favorite number. Then, using that variable, create a message that reveals your favorite number. Print that message."
   ]
  },
  {
   "cell_type": "code",
   "execution_count": null,
   "metadata": {},
   "outputs": [],
   "source": [
    "# Write your code here for 2-9"
   ]
  },
  {
   "cell_type": "markdown",
   "metadata": {},
   "source": [
    "--- \n",
    "## Getting User Input 💬\n",
    "\n",
    "So far, all the information (values) in our programs has been written directly into the code. To make programs truly interactive, we need a way to ask the user for information. We can do this with the `input()` function.\n",
    "\n",
    "The `input()` function pauses your program and waits for the user to enter some text. Once the user presses **Enter**, the function takes whatever they typed and stores it as a string."
   ]
  },
  {
   "cell_type": "code",
   "execution_count": null,
   "metadata": {},
   "outputs": [],
   "source": [
    "# The text inside the parentheses is the 'prompt' that the user sees.\n",
    "name = input(\"Please enter your name: \")\n",
    "print(f\"Hello, {name}!\")"
   ]
  },
  {
   "cell_type": "markdown",
   "metadata": {},
   "source": [
    "### Working with Numbers and Input\n",
    "\n",
    "A crucial detail is that the `input()` function **always** returns a **string**. If you want to use the input as a number, you must convert it first. You can use `int()` to convert the input to an integer or `float()` for a number with a decimal."
   ]
  },
  {
   "cell_type": "code",
   "execution_count": null,
   "metadata": {},
   "outputs": [],
   "source": [
    "# Get the user's age as a string.\n",
    "age_str = input(\"How old are you? \")\n",
    "\n",
    "# Convert the string to a number (integer).\n",
    "age = int(age_str)\n",
    "\n",
    "# Now 'age' is a number, and you can do math with it.\n",
    "next_year_age = age + 1\n",
    "print(f\"Next year, you will be {next_year_age} years old.\")"
   ]
  },
  {
   "cell_type": "markdown",
   "metadata": {},
   "source": [
    "If you don't convert the string `age_str` to an integer, trying to add `1` to it would cause an error because Python can't add a number to a string of text."
   ]
  },
  {
   "cell_type": "markdown",
   "metadata": {},
   "source": [
    "--- \n",
    "### ✏️ Try It Yourself\n",
    "\n",
    "#### Exercise: Build a Personal Information Formatter\n",
    "\n",
    "Write a program that prompts a user for the following information:\n",
    "* Their first name\n",
    "* Their last name\n",
    "* Their age\n",
    "* Their city of residence\n",
    "\n",
    "After gathering all the information, the program should combine and format it into a single, readable summary and print it to the screen.\n",
    "\n",
    "**Example Output:**\n",
    "\n",
    "```\n",
    "--- Your Information Summary ---\n",
    "Full Name: Ada Lovelace\n",
    "Age: 30\n",
    "Location: London\n",
    "------------------------------\n",
    "```\n",
    "\n",
    "* **Hint 1**: Use the `input()` function for each piece of information you need.\n",
    "* **Hint 2**: Use an f-string to combine the variables into the final formatted output.\n",
    "* **Hint 3**: You can use `\\n` to add new lines for better formatting."
   ]
  },
  {
   "cell_type": "code",
   "execution_count": null,
   "metadata": {},
   "outputs": [],
   "source": [
    "# Write your code for the Personal Information Formatter here"
   ]
  },
  {
   "cell_type": "markdown",
   "metadata": {},
   "source": [
    "--- \n",
    "#### Solution: Personal Information Formatter\n",
    "Here is one possible way to solve the exercise."
   ]
  },
  {
   "cell_type": "code",
   "execution_count": null,
   "metadata": {},
   "outputs": [],
   "source": [
    "# 1. Gather information from the user\n",
    "first_name = input(\"What is your first name? \")\n",
    "last_name = input(\"What is your last name? \")\n",
    "age = input(\"What is your age? \")\n",
    "city = input(\"What city do you live in? \")\n",
    "\n",
    "# 2. Format the information into a summary\n",
    "# Using title() to ensure names are capitalized correctly.\n",
    "full_name = f\"{first_name.title()} {last_name.title()}\"\n",
    "summary = (\n",
    "    f\"\\n--- Your Information Summary ---\\n\"\n",
    "    f\"Full Name: {full_name}\\n\"\n",
    "    f\"Age: {age}\\n\"\n",
    "    f\"Location: {city}\\n\"\n",
    "    f\"------------------------------\"\n",
    ")\n",
    "\n",
    "# 3. Print the final summary\n",
    "print(summary)"
   ]
  },
  {
   "cell_type": "markdown",
   "metadata": {},
   "source": [
    "--- \n",
    "## Comments\n",
    "\n",
    "As your programs become more complicated, you should add notes within your programs that describe your overall approach. A **comment** allows you to write notes in English within your programs.\n",
    "\n",
    "### How Do You Write Comments?\n",
    "\n",
    "In Python, the hash mark (`#`) indicates a comment. Anything following a hash mark in your code is ignored by the Python interpreter."
   ]
  },
  {
   "cell_type": "code",
   "execution_count": null,
   "metadata": {},
   "outputs": [],
   "source": [
    "# Say hello to everyone.\n",
    "print(\"Hello Python people!\")"
   ]
  },
  {
   "cell_type": "markdown",
   "metadata": {},
   "source": [
    "### What Kind of Comments Should You Write?\n",
    "\n",
    "The main reason to write comments is to **explain what your code is supposed to do and how you are making it work**. When you return to a project after some time away, you’ll likely have forgotten some of the details. Good comments can save you time by summarizing your approach.\n",
    "\n",
    "Writing clear, concise comments is one of the most beneficial habits you can form as a new programmer."
   ]
  },
  {
   "cell_type": "markdown",
   "metadata": {},
   "source": [
    "--- \n",
    "### ✏️ Try It Yourself\n",
    "\n",
    "**2-10. Adding Comments:** Choose two of the programs you’ve written, and add at least one comment to each. If you don’t have anything specific to write because your programs are too simple at this point, just add your name and the current date at the top of each program file. Then write one sentence describing what the program does."
   ]
  },
  {
   "cell_type": "markdown",
   "metadata": {},
   "source": [
    "--- \n",
    "## The Zen of Python\n",
    "\n",
    "Experienced Python programmers encourage you to avoid complexity and aim for simplicity. The Python community’s philosophy is contained in “The Zen of Python” by Tim Peters. You can access this by entering `import this` into your interpreter."
   ]
  },
  {
   "cell_type": "code",
   "execution_count": null,
   "metadata": {},
   "outputs": [],
   "source": [
    "import this"
   ]
  },
  {
   "cell_type": "markdown",
   "metadata": {},
   "source": [
    "A few key principles include:\n",
    "\n",
    "* **Beautiful is better than ugly.** Programmers respect well-designed, efficient, and even beautiful solutions to problems.\n",
    "* **Simple is better than complex.** If you have a choice, use the simple solution. It will be easier to maintain.\n",
    "* **Readability counts.** Even when your code is complex, aim to make it readable.\n",
    "* **Now is better than never.** Don’t try to write perfect code; write code that works, and then decide whether to improve it or move on."
   ]
  },
  {
   "cell_type": "markdown",
   "metadata": {},
   "source": [
    "--- \n",
    "### ✏️ Try It Yourself\n",
    "\n",
    "**2-11. Zen of Python:** Enter `import this` into a Python terminal session (or a code cell above) and skim through the additional principles."
   ]
  },
  {
   "cell_type": "markdown",
   "metadata": {},
   "source": [
    "--- \n",
    "## Summary\n",
    "\n",
    "In this chapter, you learned to:\n",
    "* Work with **variables**, use descriptive names, and resolve name and syntax errors.\n",
    "* Use **strings**, change their case, and use whitespace to organize output.\n",
    "* Work with **integers** and **floats**.\n",
    "* Get **user input** using the `input()` function and convert it to different data types.\n",
    "* Write explanatory **comments**.\n",
    "* Appreciate the philosophy of keeping your code simple and readable."
   ]
  }
 ],
 "metadata": {
  "kernelspec": {
   "display_name": "Python 3",
   "language": "python",
   "name": "python3"
  },
  "language_info": {
   "codemirror_mode": {
    "name": "ipython",
    "version": 3
   },
   "file_extension": ".py",
   "mimetype": "text/x-python",
   "name": "python",
   "nbconvert_exporter": "python",
   "pygments_lexer": "ipython3",
   "version": "3.8.5"
  }
 },
 "nbformat": 4,
 "nbformat_minor": 4
}