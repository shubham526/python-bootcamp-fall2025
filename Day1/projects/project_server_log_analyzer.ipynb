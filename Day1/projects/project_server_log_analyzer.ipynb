{
 "cells": [
  {
   "cell_type": "markdown",
   "metadata": {},
   "source": [
    "# 🚀 Mini-Project: Server Log Analyzer\n",
    "\n",
    "Welcome to your first mini-project! The goal is to build a tool that reads a server log file, analyzes its contents, and prints a summary report. This project will test your skills with file I/O, functions, dictionaries, and error handling.\n",
    "\n",
    "We will build this project in a **modular** way, creating a specific function for each task."
   ]
  },
  {
   "cell_type": "markdown",
   "metadata": {},
   "source": [
    "--- \n",
    "### Step 0: Create a Sample Log File\n",
    "\n",
    "First, we need some data to analyze. Run the cell below to create a sample `server.log` file. This file simulates a web server's access log, where each line contains an IP address, a timestamp, the request made, a status code, and the size of the response.\n",
    "\n",
    "**Log Format:** `IP_ADDRESS - [TIMESTAMP] \"REQUEST\" STATUS_CODE SIZE`"
   ]
  },
  {
   "cell_type": "code",
   "execution_count": null,
   "metadata": {},
   "outputs": [],
   "source": [
    "%%writefile server.log\n",
    "192.168.1.1 - [02/Oct/2025:15:50:11] \"GET /index.html\" 200 1500\n",
    "192.168.1.2 - [02/Oct/2025:15:50:12] \"GET /about.html\" 200 1200\n",
    "192.168.1.1 - [02/Oct/2025:15:50:15] \"GET /contact.html\" 200 1350\n",
    "192.168.1.3 - [02/Oct/2025:15:51:20] \"GET /products/\" 404 250\n",
    "192.168.1.1 - [02/Oct/2025:15:51:22] \"POST /login\" 200 1800\n",
    "INVALID LOG ENTRY\n",
    "192.168.1.2 - [02/Oct/2025:15:52:01] \"GET /images/logo.png\" 200 3500\n",
    "192.168.1.4 - [02/Oct/2025:15:52:05] \"GET /secret-data/\" 403 200\n",
    "192.168.1.2 - [02/Oct/2025:15:53:10] \"GET /about.html\" 200 1200"
   ]
  },
  {
   "cell_type": "markdown",
   "metadata": {},
   "source": [
    "--- \n",
    "### Step 1: Create a Function to Read the File\n",
    "\n",
    "Our first module will be a function that handles opening and reading the log file. This keeps our file I/O logic separate from our analysis logic.\n",
    "\n",
    "**Your Task:**\n",
    "Create a function called `read_log_file(filepath)` that:\n",
    "1.  Takes one argument: `filepath` (the path to the log file).\n",
    "2.  Uses a **`try-except`** block to handle a `FileNotFoundError`.\n",
    "3.  If the file is found, it should read all the lines and return them as a **list of strings**.\n",
    "4.  If the file is not found, it should print an error message and return an empty list `[]`."
   ]
  },
  {
   "cell_type": "code",
   "execution_count": null,
   "metadata": {},
   "outputs": [],
   "source": [
    "# Write the read_log_file function here\n",
    "\n",
    "\n",
    "# --- Test your function ---\n",
    "log_lines = read_log_file('server.log')\n",
    "if log_lines:\n",
    "    print(f\"Successfully read {len(log_lines)} lines.\")\n",
    "\n",
    "# Test the error handling\n",
    "non_existent_lines = read_log_file('non_existent_log.txt')\n",
    "print(f\"Reading a non-existent file returned: {non_existent_lines}\")"
   ]
  },
  {
   "cell_type": "markdown",
   "metadata": {},
   "source": [
    "--- \n",
    "### Step 2: Create a Function to Parse a Log Line\n",
    "\n",
    "Now we need a function that can take a single log line (a string) and extract the important information from it. We want to get the IP address and the status code.\n",
    "\n",
    "**Your Task:**\n",
    "Create a function called `parse_log_line(line)` that:\n",
    "1.  Takes one argument: `line` (a string from the log file).\n",
    "2.  Uses a **`try-except`** block to handle lines that don't fit the expected format (like the `\"INVALID LOG ENTRY\"` line).\n",
    "3.  If the line is valid, it should split the string to extract the **IP address** (the first part) and the **status code** (the second-to-last part).\n",
    "4.  The function should return a **tuple** containing the IP address and the status code, like `('192.168.1.1', '200')`.\n",
    "5.  If the line is invalid, the `except` block should catch the error (e.g., an `IndexError`) and the function should return `None`."
   ]
  },
  {
   "cell_type": "code",
   "execution_count": null,
   "metadata": {},
   "outputs": [],
   "source": [
    "# Write the parse_log_line function here\n",
    "\n",
    "\n",
    "# --- Test your function ---\n",
    "valid_line = '192.168.1.1 - [02/Oct/2025:15:50:11] \"GET /index.html\" 200 1500'\n",
    "invalid_line = 'INVALID LOG ENTRY'\n",
    "\n",
    "print(f\"Parsed valid line: {parse_log_line(valid_line)}\")\n",
    "print(f\"Parsed invalid line: {parse_log_line(invalid_line)}\")"
   ]
  },
  {
   "cell_type": "markdown",
   "metadata": {},
   "source": [
    "--- \n",
    "### Step 3: Create a Function to Analyze the Data\n",
    "\n",
    "This is the core of our project. This function will take the list of log lines and use our parsing function to count the number of hits from each IP address and the occurrences of each status code.\n",
    "\n",
    "**Your Task:**\n",
    "Create a function called `analyze_log_data(log_lines)` that:\n",
    "1.  Takes one argument: `log_lines` (the list of strings from our first function).\n",
    "2.  Initializes two empty **dictionaries**: `ip_counts` and `status_counts`.\n",
    "3.  **Loops** through each `line` in `log_lines`.\n",
    "4.  Inside the loop, calls your `parse_log_line()` function for each line.\n",
    "5.  If the parsed result is not `None`, it should update the dictionaries. For `ip_counts`, if the IP is already a key, increment its value; otherwise, add it with a value of 1. Do the same for `status_counts`.\n",
    "6.  The function should return both dictionaries."
   ]
  },
  {
   "cell_type": "code",
   "execution_count": null,
   "metadata": {},
   "outputs": [],
   "source": [
    "# Write the analyze_log_data function here\n",
    "\n",
    "\n",
    "# --- Test your function ---\n",
    "test_lines = [\n",
    "    '192.168.1.1 - [TIMESTAMP] \"REQUEST\" 200 1500',\n",
    "    '192.168.1.2 - [TIMESTAMP] \"REQUEST\" 404 250',\n",
    "    '192.168.1.1 - [TIMESTAMP] \"REQUEST\" 200 1800',\n",
    "    'INVALID LINE'\n",
    "]\n",
    "ip_hits, status_codes = analyze_log_data(test_lines)\n",
    "print(f\"IP Counts: {ip_hits}\")\n",
    "print(f\"Status Codes: {status_codes}\")"
   ]
  },
  {
   "cell_type": "markdown",
   "metadata": {},
   "source": [
    "--- \n",
    "### Step 4: Create a Function to Generate the Report\n",
    "\n",
    "Finally, we need a function to present our analysis in a clean, readable format.\n",
    "\n",
    "**Your Task:**\n",
    "Create a function called `generate_report(ip_counts, status_counts)` that:\n",
    "1.  Takes two arguments: the `ip_counts` and `status_counts` dictionaries.\n",
    "2.  Prints a formatted report title, like `\"--- Log Analysis Report ---\"`.\n",
    "3.  Prints the top IP addresses by looping through the `ip_counts` dictionary.\n",
    "4.  Prints the count for each status code by looping through the `status_counts` dictionary."
   ]
  },
  {
   "cell_type": "code",
   "execution_count": null,
   "metadata": {},
   "outputs": [],
   "source": [
    "# Write the generate_report function here\n",
    "\n",
    "\n",
    "# --- Test your function ---\n",
    "test_ips = {'192.168.1.1': 3, '192.168.1.2': 2}\n",
    "test_statuses = {'200': 4, '404': 1}\n",
    "generate_report(test_ips, test_statuses)"
   ]
  },
  {
   "cell_type": "markdown",
   "metadata": {},
   "source": [
    "--- \n",
    "### Step 5: Putting It All Together 🧩\n",
    "\n",
    "Now, let's create a main script that calls all our modular functions in the correct order to run the complete analysis.\n",
    "\n",
    "**Your Task:**\n",
    "1.  Define a variable `log_file_path` with the value `'server.log'`.\n",
    "2.  Call `read_log_file()` to get the lines from the file.\n",
    "3.  If the lines are not empty, pass them to `analyze_log_data()` to get the two count dictionaries.\n",
    "4.  Finally, pass those two dictionaries to `generate_report()` to print the final summary."
   ]
  },
  {
   "cell_type": "code",
   "execution_count": null,
   "metadata": {},
   "outputs": [],
   "source": [
    "# Main script execution\n",
    "\n",
    "def main():\n",
    "    log_file_path = 'server.log'\n",
    "    \n",
    "    # Step 1: Read the file\n",
    "    lines = read_log_file(log_file_path)\n",
    "    \n",
    "    # Step 2 & 3: Analyze and Generate Report if file was read successfully\n",
    "    if lines:\n",
    "        ip_counts, status_counts = analyze_log_data(lines)\n",
    "        generate_report(ip_counts, status_counts)\n",
    "\n",
    "# Run the main function\n",
    "main()"
   ]
  }
 ],
 "metadata": {
  "kernelspec": {
   "display_name": "Python 3",
   "language": "python",
   "name": "python3"
  },
  "language_info": {
   "codemirror_mode": {
    "name": "ipython",
    "version": 3
   },
   "file_extension": ".py",
   "mimetype": "text/x-python",
   "name": "python",
   "nbconvert_exporter": "python",
   "pygments_lexer": "ipython3",
   "version": "3.8.5"
  }
 },
 "nbformat": 4,
 "nbformat_minor": 4
}