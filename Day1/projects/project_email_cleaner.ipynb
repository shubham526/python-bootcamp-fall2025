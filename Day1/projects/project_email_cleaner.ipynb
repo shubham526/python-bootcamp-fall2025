{
 "cells": [
  {
   "cell_type": "markdown",
   "metadata": {},
   "source": [
    "# 🧹 Mini-Project: Email List Cleaner\n",
    "\n",
    "Welcome to your third project choice! The goal is to build a tool that reads a file containing a list of email addresses, cleans the list by validating formats and removing duplicates, and then saves the clean list to a new file.\n",
    "\n",
    "This project will test your skills with **file I/O**, **functions**, **string methods**, **conditional logic**, and the use of **sets** for efficiency."
   ]
  },
  {
   "cell_type": "markdown",
   "metadata": {},
   "source": [
    "--- \n",
    "### Step 0: Create a Sample Email List File\n",
    "\n",
    "First, we need some data to clean. Run the cell below to create a sample `email_list.txt` file. This file contains a mix of valid emails, invalid formats, and duplicates."
   ]
  },
  {
   "cell_type": "code",
   "execution_count": null,
   "metadata": {},
   "outputs": [],
   "source": [
    "%%writefile email_list.txt\n",
    "contact@example.com\n",
    "user.name@domain.co\n",
    "another_user@gmail.com\n",
    "invalid-email\n",
    "user@.com\n",
    " contact@example.com \n",
    "duplicate@email.com\n",
    "duplicate@email.com\n",
    "test@sub.domain.org"
   ]
  },
  {
   "cell_type": "markdown",
   "metadata": {},
   "source": [
    "--- \n",
    "### Step 1: Create a Function to Read the File\n",
    "\n",
    "As with the other projects, we'll start with a modular function to handle reading the file. This separates our file I/O logic from our cleaning logic.\n",
    "\n",
    "**Your Task:**\n",
    "Create a function called `read_email_file(filepath)` that:\n",
    "1.  Takes one argument: `filepath` (the path to the email list file).\n",
    "2.  Uses a **`try-except`** block to handle a `FileNotFoundError`.\n",
    "3.  If the file is found, it should read all the lines and return them as a **list of strings**.\n",
    "4.  If the file is not found, it should print an error message and return an empty list `[]`."
   ]
  },
  {
   "cell_type": "code",
   "execution_count": null,
   "metadata": {},
   "outputs": [],
   "source": [
    "# Write the read_email_file function here\n",
    "\n",
    "\n",
    "# --- Test your function ---\n",
    "email_lines = read_email_file('email_list.txt')\n",
    "if email_lines:\n",
    "    print(f\"Successfully read {len(email_lines)} lines.\")\n",
    "\n",
    "# Test the error handling\n",
    "non_existent_lines = read_email_file('non_existent_emails.txt')\n",
    "print(f\"Reading a non-existent file returned: {non_existent_lines}\")"
   ]
  },
  {
   "cell_type": "markdown",
   "metadata": {},
   "source": [
    "--- \n",
    "### Step 2: Create a Function to Validate and Clean an Email\n",
    "\n",
    "This function will take a single email string and check if it's in a valid format. A simple validation for this project is:\n",
    "* The string must contain exactly one `@` symbol.\n",
    "* The string must contain at least one `.` after the `@` symbol.\n",
    "* We should also clean up any leading/trailing whitespace.\n",
    "\n",
    "**Your Task:**\n",
    "Create a function called `validate_and_clean_email(email)` that:\n",
    "1.  Takes one argument: `email` (a string).\n",
    "2.  Uses the `.strip()` method to remove any leading or trailing whitespace.\n",
    "3.  Uses **conditional logic** (`if` statements) and **string methods** (`.count()`, `.find()`) to check if the cleaned email is valid based on the rules above.\n",
    "4.  If the email is valid, the function should return the cleaned email string.\n",
    "5.  If the email is invalid, the function should return `None`."
   ]
  },
  {
   "cell_type": "code",
   "execution_count": null,
   "metadata": {},
   "outputs": [],
   "source": [
    "# Write the validate_and_clean_email function here\n",
    "\n",
    "\n",
    "# --- Test your function ---\n",
    "print(f\"Valid: {validate_and_clean_email(' test@example.com ')}\")\n",
    "print(f\"Invalid (no @): {validate_and_clean_email('invalid-email')}\")\n",
    "print(f\"Invalid (multiple @): {validate_and_clean_email('test@@example.com')}\")\n",
    "print(f\"Invalid (no . after @): {validate_and_clean_email('test@examplecom')}\")"
   ]
  },
  {
   "cell_type": "markdown",
   "metadata": {},
   "source": [
    "--- \n",
    "### Step 3: Create a Function to Process the Email List\n",
    "\n",
    "This function will be the core of our cleaner. It will loop through all the raw email lines, use our validation function, and sort them into valid and invalid lists. It will also handle duplicates.\n",
    "\n",
    "**Your Task:**\n",
    "Create a function called `process_emails(email_lines)` that:\n",
    "1.  Takes one argument: `email_lines` (the list of strings).\n",
    "2.  Initializes three empty data structures:\n",
    "    * `valid_emails = set()` (A **set** is perfect for automatically handling duplicates!)\n",
    "    * `invalid_emails = []`\n",
    "    * `duplicate_emails = []`\n",
    "3.  **Loops** through each `line` in `email_lines`.\n",
    "4.  Inside the loop, calls `validate_and_clean_email()` on the line.\n",
    "5.  If the result is valid (not `None`):\n",
    "    * Check if the email is already in the `valid_emails` set. If it is, add it to the `duplicate_emails` list.\n",
    "    * If it's not a duplicate, add it to the `valid_emails` set.\n",
    "6.  If the result is invalid (`None`), add the original (stripped) line to the `invalid_emails` list.\n",
    "7.  The function should return the three collections: `valid_emails`, `invalid_emails`, and `duplicate_emails`."
   ]
  },
  {
   "cell_type": "code",
   "execution_count": null,
   "metadata": {},
   "outputs": [],
   "source": [
    "# Write the process_emails function here\n",
    "\n",
    "\n",
    "# --- Test your function ---\n",
    "test_lines = [\n",
    "    'good@email.com',\n",
    "    ' bademail ',\n",
    "    'good@email.com',\n",
    "    ' another@good.com '\n",
    "]\n",
    "valid, invalid, duplicates = process_emails(test_lines)\n",
    "print(f\"Valid emails: {valid}\")\n",
    "print(f\"Invalid emails: {invalid}\")\n",
    "print(f\"Duplicate emails: {duplicates}\")"
   ]
  },
  {
   "cell_type": "markdown",
   "metadata": {},
   "source": [
    "--- \n",
    "### Step 4: Create a Function to Write the Cleaned List\n",
    "\n",
    "Now we need a function to save our results. This function will write the final, clean list of emails to a new file.\n",
    "\n",
    "**Your Task:**\n",
    "Create a function called `write_clean_emails(filepath, valid_emails)` that:\n",
    "1.  Takes two arguments: `filepath` for the output file and the `valid_emails` set.\n",
    "2.  Opens the specified `filepath` in **write mode** (`'w'`).\n",
    "3.  Loops through the `valid_emails` set.\n",
    "4.  For each email, it writes the email followed by a newline character (`\\n`) to the file.\n",
    "5.  After writing, it should print a confirmation message, like `\"Cleaned email list saved to clean_emails.txt\"`."
   ]
  },
  {
   "cell_type": "code",
   "execution_count": null,
   "metadata": {},
   "outputs": [],
   "source": [
    "# Write the write_clean_emails function here\n",
    "\n",
    "\n",
    "# --- Test your function ---\n",
    "test_valid_emails = {'test1@example.com', 'test2@example.com'}\n",
    "write_clean_emails('test_clean_list.txt', test_valid_emails)\n",
    "\n",
    "# You can check your directory for 'test_clean_list.txt' to verify it worked!"
   ]
  },
  {
   "cell_type": "markdown",
   "metadata": {},
   "source": [
    "--- \n",
    "### Step 5: Putting It All Together 🧩\n",
    "\n",
    "Let's combine all our modular functions to create the full email cleaning tool.\n",
    "\n",
    "**Your Task:**\n",
    "1.  Define two variables for your file paths: `input_file` and `output_file`.\n",
    "2.  Call `read_email_file()` to get the raw lines.\n",
    "3.  If the file was read successfully, pass the lines to `process_emails()` to get your `valid`, `invalid`, and `duplicate` collections.\n",
    "4.  Print a summary report to the screen showing:\n",
    "    * How many valid, invalid, and duplicate emails were found.\n",
    "5.  Call `write_clean_emails()` to save the `valid_emails` to your `output_file`."
   ]
  },
  {
   "cell_type": "code",
   "execution_count": null,
   "metadata": {},
   "outputs": [],
   "source": [
    "# Main script execution\n",
    "\n",
    "def main():\n",
    "    input_file = 'email_list.txt'\n",
    "    output_file = 'clean_email_list.txt'\n",
    "    \n",
    "    # Step 1: Read the file\n",
    "    lines = read_email_file(input_file)\n",
    "    \n",
    "    if lines:\n",
    "        # Step 2: Process the emails\n",
    "        valid, invalid, duplicates = process_emails(lines)\n",
    "        \n",
    "        # Step 3: Print a summary report\n",
    "        print(\"--- Email Cleaning Report ---\")\n",
    "        print(f\"Valid emails found: {len(valid)}\")\n",
    "        print(f\"Invalid emails found: {len(invalid)}\")\n",
    "        print(f\"Duplicate emails found: {len(duplicates)}\")\n",
    "        print(\"---------------------------\")\n",
    "        \n",
    "        # Step 4: Write the clean list to a new file\n",
    "        write_clean_emails(output_file, valid)\n",
    "\n",
    "# Run the main function\n",
    "main()"
   ]
  }
 ],
 "metadata": {
  "kernelspec": {
   "display_name": "Python 3",
   "language": "python",
   "name": "python3"
  },
  "language_info": {
   "codemirror_mode": {
    "name": "ipython",
    "version": 3
   },
   "file_extension": ".py",
   "mimetype": "text/x-python",
   "name": "python",
   "nbconvert_exporter": "python",
   "pygments_lexer": "ipython3",
   "version": "3.8.5"
  }
 },
 "nbformat": 4,
 "nbformat_minor": 4
}