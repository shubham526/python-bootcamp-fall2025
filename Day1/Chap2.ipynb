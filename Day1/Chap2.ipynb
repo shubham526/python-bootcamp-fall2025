{
 "cells": [
  {
   "cell_type": "markdown",
   "metadata": {},
   "source": [
    "# Notebook 2: Lists, Loops, Conditionals, and Dictionaries\n",
    "\n",
    "In this notebook, you'll learn the foundational skills for managing collections of data and controlling the flow of your programs.\n",
    "\n",
    "**Topics Covered:**\n",
    "* **Lists**: Storing and organizing ordered collections of items.\n",
    "* **Loops**: Performing repetitive tasks efficiently.\n",
    "* **Conditional Logic**: Making decisions and responding to different conditions.\n",
    "* **Dictionaries**: Storing and organizing data using key-value pairs."
   ]
  },
  {
   "cell_type": "markdown",
   "metadata": {},
   "source": [
    "--- \n",
    "## Part 1: Introducing Lists (Data Organization)\n",
    "\n",
    "Lists allow you to store sets of information in one place, whether you have just a few items or millions. They are one of Python's most powerful and fundamental features."
   ]
  },
  {
   "cell_type": "markdown",
   "metadata": {},
   "source": [
    "### What Is a List?\n",
    "\n",
    "A **list** is a collection of items in a particular order. You can put anything you want into a list. In Python, square brackets `[]` indicate a list, and individual elements are separated by commas."
   ]
  },
  {
   "cell_type": "code",
   "execution_count": null,
   "metadata": {},
   "outputs": [],
   "source": [
    "bicycles = ['trek', 'cannondale', 'redline', 'specialized']\n",
    "print(bicycles)"
   ]
  },
  {
   "cell_type": "markdown",
   "metadata": {},
   "source": [
    "### Accessing Elements in a List\n",
    "\n",
    "Lists are ordered, so you can access any element by its position, or **index**. To get an element, write the list's name followed by the index in square brackets.\n",
    "\n",
    "#### Index Positions Start at 0, Not 1\n",
    "\n",
    "Python considers the first item in a list to be at index `0`. This is a common source of \"off-by-one\" errors for beginners. \n",
    "* The first item is at index `0`.\n",
    "* The second item is at index `1`.\n",
    "* And so on."
   ]
  },
  {
   "cell_type": "code",
   "execution_count": null,
   "metadata": {},
   "outputs": [],
   "source": [
    "bicycles = ['trek', 'cannondale', 'redline', 'specialized']\n",
    "\n",
    "# Get the first bicycle (at index 0)\n",
    "print(bicycles[0])\n",
    "\n",
    "# You can also use string methods on elements from a list\n",
    "print(bicycles[0].title())"
   ]
  },
  {
   "cell_type": "markdown",
   "metadata": {},
   "source": [
    "Python has a special syntax for accessing the last element. An index of `-1` always returns the last item in the list. `-2` returns the second to last, and so on."
   ]
  },
  {
   "cell_type": "code",
   "execution_count": null,
   "metadata": {},
   "outputs": [],
   "source": [
    "bicycles = ['trek', 'cannondale', 'redline', 'specialized']\n",
    "\n",
    "# Get the last bicycle\n",
    "print(bicycles[-1])\n",
    "\n",
    "# Get the second to last bicycle\n",
    "print(bicycles[-2])"
   ]
  },
  {
   "cell_type": "markdown",
   "metadata": {},
   "source": [
    "### Using Individual Values from a List\n",
    "\n",
    "You can use values from a list just like any other variable, such as in an f-string to compose a message."
   ]
  },
  {
   "cell_type": "code",
   "execution_count": null,
   "metadata": {},
   "outputs": [],
   "source": [
    "bicycles = ['trek', 'cannondale', 'redline', 'specialized']\n",
    "message = f\"My first bicycle was a {bicycles[0].title()}.\"\n",
    "\n",
    "print(message)"
   ]
  },
  {
   "cell_type": "markdown",
   "metadata": {},
   "source": [
    "### Changing, Adding, and Removing Elements\n",
    "\n",
    "Most lists you create will be **dynamic**, meaning you'll add and remove elements as your program runs.\n",
    "\n",
    "#### Modifying Elements\n",
    "To change an element, specify the list and index, then provide the new value."
   ]
  },
  {
   "cell_type": "code",
   "execution_count": null,
   "metadata": {},
   "outputs": [],
   "source": [
    "motorcycles = ['honda', 'yamaha', 'suzuki']\n",
    "print(f\"Original list: {motorcycles}\")\n",
    "\n",
    "# Change the first element from 'honda' to 'ducati'\n",
    "motorcycles[0] = 'ducati'\n",
    "print(f\"Modified list: {motorcycles}\")"
   ]
  },
  {
   "cell_type": "markdown",
   "metadata": {},
   "source": [
    "#### Adding Elements\n",
    "\n",
    "* **Appending** to the end of a list: Use the `.append()` method.\n",
    "* **Inserting** into a list: Use the `.insert()` method and specify the index and value."
   ]
  },
  {
   "cell_type": "code",
   "execution_count": null,
   "metadata": {},
   "outputs": [],
   "source": [
    "motorcycles = ['honda', 'yamaha', 'suzuki']\n",
    "\n",
    "# Appending 'ducati' to the end\n",
    "motorcycles.append('ducati')\n",
    "print(f\"After append: {motorcycles}\")\n",
    "\n",
    "# Inserting 'mv agusta' at the beginning (index 0)\n",
    "motorcycles.insert(0, 'mv agusta')\n",
    "print(f\"After insert: {motorcycles}\")"
   ]
  },
  {
   "cell_type": "markdown",
   "metadata": {},
   "source": [
    "#### Removing Elements\n",
    "\n",
    "* **Using `del` statement**: If you know the element's index. The item is removed permanently.\n",
    "* **Using `.pop()` method**: Removes the *last* item from a list but lets you use it. You can also pop from any position by providing an index, e.g., `pop(0)`.\n",
    "* **Using `.remove()` method**: If you know the *value* of the item you want to remove. It only removes the first occurrence of the value."
   ]
  },
  {
   "cell_type": "code",
   "execution_count": null,
   "metadata": {},
   "outputs": [],
   "source": [
    "motorcycles = ['honda', 'yamaha', 'suzuki', 'ducati']\n",
    "print(f\"Original list: {motorcycles}\")\n",
    "\n",
    "# Remove the second item using del\n",
    "del motorcycles[1] # Removes 'yamaha'\n",
    "print(f\"After del: {motorcycles}\")\n",
    "\n",
    "# Remove the last item using pop()\n",
    "popped_motorcycle = motorcycles.pop()\n",
    "print(f\"After pop: {motorcycles}\")\n",
    "print(f\"The popped motorcycle was: {popped_motorcycle}\")\n",
    "\n",
    "# Remove an item by value\n",
    "motorcycles.remove('honda')\n",
    "print(f\"After remove: {motorcycles}\")"
   ]
  },
  {
   "cell_type": "markdown",
   "metadata": {},
   "source": [
    "### Organizing a List\n",
    "\n",
    "* `.sort()`: Sorts a list **permanently**. Use `sort(reverse=True)` for reverse order.\n",
    "* `sorted()`: Sorts a list **temporarily** for display, leaving the original list unchanged.\n",
    "* `.reverse()`: Reverses the order of a list **permanently**.\n",
    "* `len()`: Finds the length (number of items) of a list."
   ]
  },
  {
   "cell_type": "code",
   "execution_count": null,
   "metadata": {},
   "outputs": [],
   "source": [
    "cars = ['bmw', 'audi', 'toyota', 'subaru']\n",
    "print(f\"Original list: {cars}\")\n",
    "\n",
    "# Temporarily sort the list\n",
    "print(f\"Temporarily sorted list: {sorted(cars)}\")\n",
    "print(f\"Original list is still: {cars}\")\n",
    "\n",
    "# Permanently sort the list\n",
    "cars.sort()\n",
    "print(f\"Permanently sorted list: {cars}\")\n",
    "\n",
    "# Find the length of the list\n",
    "print(f\"The number of cars is: {len(cars)}\")"
   ]
  },
  {
   "cell_type": "markdown",
   "metadata": {},
   "source": [
    "--- \n",
    "## Part 2: Working with Lists (Loops for Repetitive Tasks)\n",
    "\n",
    "Looping allows you to take the same action, or set of actions, with every item in a list. This lets you work efficiently with lists of any length."
   ]
  },
  {
   "cell_type": "markdown",
   "metadata": {},
   "source": [
    "### Looping Through an Entire List\n",
    "\n",
    "When you want to do the same action with every item in a list, you can use Python’s `for` loop. The syntax reads like natural language: \"For every magician in the list of magicians, print the magician's name.\""
   ]
  },
  {
   "cell_type": "code",
   "execution_count": null,
   "metadata": {},
   "outputs": [],
   "source": [
    "magicians = ['alice', 'david', 'carolina']\n",
    "\n",
    "# The for loop pulls one name from the list at a time and stores it in the variable 'magician'.\n",
    "for magician in magicians:\n",
    "    # This indented block runs once for each item in the list.\n",
    "    print(f\"{magician.title()}, that was a great trick!\")\n",
    "    print(f\"I can't wait to see your next trick, {magician.title()}.\\n\")\n",
    "\n",
    "# This line is not indented, so it runs only once after the loop is finished.\n",
    "print(\"Thank you, everyone. That was a great magic show!\")"
   ]
  },
  {
   "cell_type": "markdown",
   "metadata": {},
   "source": [
    "### Making Numerical Lists\n",
    "\n",
    "#### Using the `range()` Function\n",
    "The `range()` function makes it easy to generate a series of numbers. It stops *one number before* the specified end value."
   ]
  },
  {
   "cell_type": "code",
   "execution_count": null,
   "metadata": {},
   "outputs": [],
   "source": [
    "numbers = list(range(1, 6)) # Creates a list of numbers from 1 to 5\n",
    "print(numbers)"
   ]
  },
  {
   "cell_type": "markdown",
   "metadata": {},
   "source": [
    "#### List Comprehensions\n",
    "A **list comprehension** combines the `for` loop and the creation of new elements into one line, making your code more compact."
   ]
  },
  {
   "cell_type": "code",
   "execution_count": null,
   "metadata": {},
   "outputs": [],
   "source": [
    "squares_comp = [value**2 for value in range(1, 11)]\n",
    "print(f\"Comprehension: {squares_comp}\")"
   ]
  },
  {
   "cell_type": "markdown",
   "metadata": {},
   "source": [
    "### Working with Part of a List (Slicing)\n",
    "\n",
    "You can work with a specific group of items in a list, which Python calls a **slice**. You specify the start and end index. Like `range()`, the slice stops one item before the end index."
   ]
  },
  {
   "cell_type": "code",
   "execution_count": null,
   "metadata": {},
   "outputs": [],
   "source": [
    "players = ['charles', 'martina', 'michael', 'florence', 'eli']\n",
    "\n",
    "# Get the first three players (index 0, 1, and 2)\n",
    "print(players[0:3])\n",
    "\n",
    "# Get players from the 3rd element to the end\n",
    "print(players[2:])\n",
    "\n",
    "# Get the last three players\n",
    "print(players[-3:])"
   ]
  },
  {
   "cell_type": "markdown",
   "metadata": {},
   "source": [
    "--- \n",
    "## Part 3: `if` Statements (Conditional Logic)\n",
    "\n",
    "Programming often involves examining a set of conditions and deciding which action to take. Python’s `if` statement allows you to examine the state of your program and respond appropriately."
   ]
  },
  {
   "cell_type": "markdown",
   "metadata": {},
   "source": [
    "### Conditional Tests\n",
    "\n",
    "At the heart of every `if` statement is an expression that can be evaluated as `True` or `False`. This is a **conditional test**.\n",
    "\n",
    "* **Checking for Equality**: `==` (double equals)\n",
    "* **Checking for Inequality**: `!=` \n",
    "* **Numerical Comparisons**: `>`, `<`, `>=`, `<=`"
   ]
  },
  {
   "cell_type": "code",
   "execution_count": null,
   "metadata": {},
   "outputs": [],
   "source": [
    "car = 'bmw'\n",
    "print(car == 'bmw') # This will be True\n",
    "\n",
    "requested_topping = 'mushrooms'\n",
    "print(requested_topping != 'anchovies') # This will be True"
   ]
  },
  {
   "cell_type": "markdown",
   "metadata": {},
   "source": [
    "#### Checking Multiple Conditions\n",
    "\n",
    "* `and`: `True` only if **both** conditions are true.\n",
    "* `or`: `True` if **at least one** condition is true."
   ]
  },
  {
   "cell_type": "code",
   "execution_count": null,
   "metadata": {},
   "outputs": [],
   "source": [
    "age_0 = 22\n",
    "age_1 = 18\n",
    "\n",
    "print(age_0 >= 21 and age_1 >= 21) # False\n",
    "print(age_0 >= 21 or age_1 >= 21)  # True"
   ]
  },
  {
   "cell_type": "markdown",
   "metadata": {},
   "source": [
    "### `if-elif-else` Chains\n",
    "\n",
    "Often, you need to test more than two possible situations. The `if-elif-else` chain runs each conditional test in order until one passes. When a test passes, the code inside that block is executed, and Python *skips the rest of the tests*.\n",
    "\n",
    "This is perfect for situations where you only want **one block of code** to run."
   ]
  },
  {
   "cell_type": "code",
   "execution_count": null,
   "metadata": {},
   "outputs": [],
   "source": [
    "age = 12\n",
    "\n",
    "if age < 4:\n",
    "    price = 0\n",
    "elif age < 18:\n",
    "    price = 25\n",
    "elif age < 65:\n",
    "    price = 40\n",
    "else: # This covers anyone 65 or older\n",
    "    price = 20\n",
    "\n",
    "print(f\"Your admission cost is ${price}.\")"
   ]
  },
  {
   "cell_type": "markdown",
   "metadata": {},
   "source": [
    "--- \n",
    "## Part 4: Dictionaries 📖\n",
    "\n",
    "While lists store a collection of items, **dictionaries** store connections between pieces of information. Each item in a dictionary is a **key-value pair**."
   ]
  },
  {
   "cell_type": "markdown",
   "metadata": {},
   "source": [
    "### Working with Dictionaries\n",
    "\n",
    "A dictionary in Python is a collection of key-value pairs wrapped in braces `{}`. Each **key** is connected to a **value**, and you use the key to access its associated value."
   ]
  },
  {
   "cell_type": "code",
   "execution_count": null,
   "metadata": {},
   "outputs": [],
   "source": [
    "alien_0 = {'color': 'green', 'points': 5}\n",
    "\n",
    "# Accessing values using their keys\n",
    "print(alien_0['color'])\n",
    "print(alien_0['points'])"
   ]
  },
  {
   "cell_type": "markdown",
   "metadata": {},
   "source": [
    "### Adding and Modifying Key-Value Pairs\n",
    "\n",
    "Dictionaries are dynamic. You can add new key-value pairs or modify existing ones at any time."
   ]
  },
  {
   "cell_type": "code",
   "execution_count": null,
   "metadata": {},
   "outputs": [],
   "source": [
    "alien_0 = {'color': 'green', 'points': 5}\n",
    "print(f\"Original dictionary: {alien_0}\")\n",
    "\n",
    "# Add new key-value pairs\n",
    "alien_0['x_position'] = 0\n",
    "alien_0['y_position'] = 25\n",
    "print(f\"After adding position: {alien_0}\")\n",
    "\n",
    "# Modify a value\n",
    "alien_0['color'] = 'yellow'\n",
    "print(f\"After changing color: {alien_0}\")"
   ]
  },
  {
   "cell_type": "markdown",
   "metadata": {},
   "source": [
    "### Removing Key-Value Pairs\n",
    "\n",
    "You can use the `del` statement to permanently remove a key-value pair."
   ]
  },
  {
   "cell_type": "code",
   "execution_count": null,
   "metadata": {},
   "outputs": [],
   "source": [
    "alien_0 = {'color': 'green', 'points': 5}\n",
    "print(f\"Original dictionary: {alien_0}\")\n",
    "\n",
    "del alien_0['points']\n",
    "print(f\"After deleting points: {alien_0}\")"
   ]
  },
  {
   "cell_type": "markdown",
   "metadata": {},
   "source": [
    "### Looping Through a Dictionary\n",
    "\n",
    "You can loop through a dictionary in several ways.\n",
    "\n",
    "#### Looping Through Key-Value Pairs\n",
    "Use the `.items()` method to get both the key and the value."
   ]
  },
  {
   "cell_type": "code",
   "execution_count": null,
   "metadata": {},
   "outputs": [],
   "source": [
    "favorite_languages = {\n",
    "    'jen': 'python',\n",
    "    'sarah': 'c',\n",
    "    'edward': 'ruby',\n",
    "    'phil': 'python',\n",
    "}\n",
    "\n",
    "for name, language in favorite_languages.items():\n",
    "    print(f\"{name.title()}'s favorite language is {language.title()}.\")"
   ]
  },
  {
   "cell_type": "markdown",
   "metadata": {},
   "source": [
    "#### Looping Through Keys or Values\n",
    "Use the `.keys()` method to loop through only the keys, and the `.values()` method for only the values. To get unique values, you can wrap the values in `set()`."
   ]
  },
  {
   "cell_type": "code",
   "execution_count": null,
   "metadata": {},
   "outputs": [],
   "source": [
    "favorite_languages = {\n",
    "    'jen': 'python',\n",
    "    'sarah': 'c',\n",
    "    'edward': 'ruby',\n",
    "    'phil': 'python',\n",
    "}\n",
    "\n",
    "print(\"\\nPeople polled:\")\n",
    "for name in favorite_languages.keys():\n",
    "    print(name.title())\n",
    "\n",
    "print(\"\\nLanguages mentioned (unique):\")\n",
    "for language in set(favorite_languages.values()):\n",
    "    print(language.title())"
   ]
  },
  {
   "cell_type": "markdown",
   "metadata": {},
   "source": [
    "### Nesting\n",
    "\n",
    "Nesting allows you to store complex data structures. You can have a **list of dictionaries**, a **list inside a dictionary**, or even a **dictionary inside a dictionary**."
   ]
  },
  {
   "cell_type": "code",
   "execution_count": null,
   "metadata": {},
   "outputs": [],
   "source": [
    "# Example: A list of dictionaries\n",
    "alien_0 = {'color': 'green', 'points': 5}\n",
    "alien_1 = {'color': 'yellow', 'points': 10}\n",
    "alien_2 = {'color': 'red', 'points': 15}\n",
    "\n",
    "aliens = [alien_0, alien_1, alien_2]\n",
    "\n",
    "for alien in aliens:\n",
    "    print(alien)"
   ]
  },
  {
   "cell_type": "code",
   "execution_count": null,
   "metadata": {},
   "outputs": [],
   "source": [
    "# Example: A list in a dictionary\n",
    "pizza = {\n",
    "    'crust': 'thick',\n",
    "    'toppings': ['mushrooms', 'extra cheese'],\n",
    "}\n",
    "\n",
    "print(f\"You ordered a {pizza['crust']}-crust pizza with the following toppings:\")\n",
    "for topping in pizza['toppings']:\n",
    "    print(f\"\\t{topping}\")"
   ]
  },
  {
   "cell_type": "markdown",
   "metadata": {},
   "source": [
    "--- \n",
    "## Part 5: Final Exercise 🎓\n",
    "\n",
    "Now let's combine these concepts to solve a practical problem."
   ]
  },
  {
   "cell_type": "markdown",
   "metadata": {},
   "source": [
    "### ✏️ Try It Yourself: Grade Calculator\n",
    "\n",
    "Write a program that determines the letter grade for a numerical score.\n",
    "\n",
    "1.  Create a variable `score` and assign it a numerical value (e.g., `85`).\n",
    "2.  Use an `if-elif-else` chain to determine the grade based on the following scale:\n",
    "    * 90 and above: 'A'\n",
    "    * 80–89: 'B'\n",
    "    * 70–79: 'C'\n",
    "    * 60–69: 'D'\n",
    "    * Below 60: 'F'\n",
    "3.  Print a message that shows the score and the calculated letter grade. For example: `A score of 85 is a B.`\n",
    "\n",
    "Try changing the value of `score` to test all the different conditions."
   ]
  },
  {
   "cell_type": "code",
   "execution_count": null,
   "metadata": {},
   "outputs": [],
   "source": [
    "# Write your grade calculator code here"
   ]
  },
  {
   "cell_type": "markdown",
   "metadata": {},
   "source": [
    "--- \n",
    "### Solution: Grade Calculator\n",
    "Here is one possible way to solve the exercise."
   ]
  },
  {
   "cell_type": "code",
   "execution_count": null,
   "metadata": {},
   "outputs": [],
   "source": [
    "# 1. Create a score variable\n",
    "score = 85\n",
    "grade = '' # Initialize an empty string for the grade\n",
    "\n",
    "# 2. Use an if-elif-else chain to determine the grade\n",
    "if score >= 90:\n",
    "    grade = 'A'\n",
    "elif score >= 80:\n",
    "    grade = 'B'\n",
    "elif score >= 70:\n",
    "    grade = 'C'\n",
    "elif score >= 60:\n",
    "    grade = 'D'\n",
    "else:\n",
    "    grade = 'F'\n",
    "\n",
    "# 3. Print the final message\n",
    "print(f\"A score of {score} is a {grade}.\")"
   ]
  }
 ],
 "metadata": {
  "kernelspec": {
   "display_name": "Python 3",
   "language": "python",
   "name": "python3"
  },
  "language_info": {
   "codemirror_mode": {
    "name": "ipython",
    "version": 3
   },
   "file_extension": ".py",
   "mimetype": "text/x-python",
   "name": "python",
   "nbconvert_exporter": "python",
   "pygments_lexer": "ipython3",
   "version": "3.8.5"
  }
 },
 "nbformat": 4,
 "nbformat_minor": 4
}