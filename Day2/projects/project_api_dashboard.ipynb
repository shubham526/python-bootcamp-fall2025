{
 "cells": [
  {
   "cell_type": "markdown",
   "metadata": {},
   "source": [
    "# 📊 Mini-Project: Public API Data Dashboard\n",
    "\n",
    "Welcome to your capstone project! Your goal is to build a command-line application that fetches live data from a public API, processes it, and displays the key insights in a clean, text-based dashboard.\n",
    "\n",
    "This project will challenge you to integrate skills from across the bootcamp: **functions**, the **`requests` library**, **JSON data processing**, **dictionaries and lists**, **error handling**, and creating a **formatted user interface**."
   ]
  },
  {
   "cell_type": "markdown",
   "metadata": {},
   "source": [
    "--- \n",
    "### Step 0: Choose and Explore the API\n",
    "\n",
    "We will use the **Public APIs Project**, which provides a free, simple, and open API listing other public APIs. It requires no authentication, making it perfect for this project.\n",
    "\n",
    "The main endpoint we'll use is: `https://api.publicapis.org/entries`.\n",
    "\n",
    "Let's make a quick test request to understand the data structure we'll be working with. Notice that the main data is a list of dictionaries located under the `\"entries\"` key."
   ]
  },
  {
   "cell_type": "code",
   "execution_count": null,
   "metadata": {},
   "outputs": [],
   "source": [
    "import requests\n",
    "import pprint\n",
    "\n",
    "response = requests.get(\"https://api.publicapis.org/entries\")\n",
    "test_data = response.json()\n",
    "\n",
    "# Print the first entry to see its structure\n",
    "pprint.pprint(test_data['entries'][0])"
   ]
  },
  {
   "cell_type": "markdown",
   "metadata": {},
   "source": [
    "--- \n",
    "### Step 1: Create a Function to Fetch Data\n",
    "\n",
    "Our first module will be a function dedicated to handling the API call. This separates our networking logic from our data processing logic.\n",
    "\n",
    "**Your Task:**\n",
    "Create a function `fetch_api_data(category)` that:\n",
    "1.  Takes one argument: `category` (a string, e.g., 'Science & Math').\n",
    "2.  Defines the base URL and a `params` dictionary. The API uses a `category` query parameter to filter the results.\n",
    "3.  Uses a **`try-except`** block to handle potential network errors (e.g., `requests.exceptions.RequestException`).\n",
    "4.  Inside the `try` block, makes a `GET` request using `requests.get()`.\n",
    "5.  Checks if the `response.status_code` is `200` (OK). If it is, return the JSON data from the response.\n",
    "6.  If the status code is not `200` or if an exception occurs, print a user-friendly error message and return `None`."
   ]
  },
  {
   "cell_type": "code",
   "execution_count": null,
   "metadata": {},
   "outputs": [],
   "source": [
    "# Write the fetch_api_data function here\n",
    "\n",
    "\n",
    "# --- Test your function ---\n",
    "print(\"--- Testing with a valid category ---\")\n",
    "science_data = fetch_api_data('Science & Math')\n",
    "if science_data:\n",
    "    print(f\"Successfully fetched {science_data['count']} entries.\")\n",
    "\n",
    "print(\"\\n--- Testing with an invalid category ---\")\n",
    "# This API returns an empty list for categories it doesn't recognize, which is fine.\n",
    "invalid_data = fetch_api_data('FakeCategory123')\n",
    "if invalid_data:\n",
    "    print(f\"Fetched {invalid_data['count']} entries for a fake category.\")"
   ]
  },
  {
   "cell_type": "markdown",
   "metadata": {},
   "source": [
    "--- \n",
    "### Step 2: Create a Function to Process the Data\n",
    "\n",
    "Now that we can fetch the data, we need a function to analyze it. This function will take the raw API response and extract the specific insights we want to display.\n",
    "\n",
    "**Your Task:**\n",
    "Create a function `process_data(data)` that:\n",
    "1.  Takes one argument: `data` (the dictionary returned from the API).\n",
    "2.  Initializes an empty **dictionary** called `auth_counts` to store the count of each authentication type (e.g., `'apiKey'`, `'OAuth'`, etc.).\n",
    "3.  **Loops** through the list of API entries found in `data['entries']`.\n",
    "4.  For each entry (which is a dictionary), it should find the value of the `'Auth'` key.\n",
    "5.  Update the `auth_counts` dictionary: If the authentication type is already a key, increment its value; otherwise, add it with a value of 1. (Hint: `dict.get(key, 0) + 1` is a great pattern for this).\n",
    "6.  The function should return the `auth_counts` dictionary."
   ]
  },
  {
   "cell_type": "code",
   "execution_count": null,
   "metadata": {},
   "outputs": [],
   "source": [
    "# Write the process_data function here\n",
    "\n",
    "\n",
    "# --- Test your function ---\n",
    "test_api_response = {\n",
    "    'count': 3,\n",
    "    'entries': [\n",
    "        {'API': 'First API', 'Auth': 'apiKey', 'Category': 'Test'},\n",
    "        {'API': 'Second API', 'Auth': '', 'Category': 'Test'},\n",
    "        {'API': 'Third API', 'Auth': 'apiKey', 'Category': 'Test'}\n",
    "    ]\n",
    "}\n",
    "auth_summary = process_data(test_api_response)\n",
    "print(f\"Processed Auth Counts: {auth_summary}\")"
   ]
  },
  {
   "cell_type": "markdown",
   "metadata": {},
   "source": [
    "--- \n",
    "### Step 3: Create a Function to Display the Dashboard\n",
    "\n",
    "This function will be responsible for the user interface. It will take the processed data and print it in a clean, readable format.\n",
    "\n",
    "**Your Task:**\n",
    "Create a function `display_dashboard(category, total_count, auth_counts)` that:\n",
    "1.  Takes three arguments: the `category` the user searched for, the `total_count` of APIs found, and the `auth_counts` dictionary.\n",
    "2.  Prints a formatted, text-based dashboard.\n",
    "3.  The dashboard should include:\n",
    "    * A main title.\n",
    "    * The category that was analyzed.\n",
    "    * The total number of APIs found.\n",
    "    * A breakdown of APIs by authentication type, looping through the `auth_counts` dictionary to print each type and its count."
   ]
  },
  {
   "cell_type": "code",
   "execution_count": null,
   "metadata": {},
   "outputs": [],
   "source": [
    "# Write the display_dashboard function here\n",
    "\n",
    "\n",
    "# --- Test your function ---\n",
    "test_auth_counts = {'apiKey': 2, '': 1, 'OAuth': 5}\n",
    "display_dashboard('Business', 8, test_auth_counts)"
   ]
  },
  {
   "cell_type": "markdown",
   "metadata": {},
   "source": [
    "--- \n",
    "### Step 4: Putting It All Together 🧩\n",
    "\n",
    "Now, let's create the main script that orchestrates our modular functions to run the complete application.\n",
    "\n",
    "**Your Task:**\n",
    "1.  Create a `main()` function.\n",
    "2.  Inside `main()`, use `input()` to prompt the user for an API category they'd like to analyze.\n",
    "3.  Call your `fetch_api_data()` function with the user's input.\n",
    "4.  Check if the data was fetched successfully (i.e., it's not `None` and contains entries).\n",
    "5.  If successful, call `process_data()` to get the analytics.\n",
    "6.  Finally, call `display_dashboard()` with all the necessary information to show the report to the user.\n",
    "7.  If no data was fetched or the category has no entries, print an appropriate message."
   ]
  },
  {
   "cell_type": "code",
   "execution_count": null,
   "metadata": {},
   "outputs": [],
   "source": [
    "# You will need all your functions from the previous steps here.\n",
    "\n",
    "def main():\n",
    "    # Write the main application logic here\n",
    "    pass\n",
    "\n",
    "# --- Run the Application ---\n",
    "main()"
   ]
  },
  {
   "cell_type": "markdown",
   "metadata": {},
   "source": [
    "--- \n",
    "### Bonus Challenge 🚀\n",
    "\n",
    "If you finish early, enhance your application.\n",
    "\n",
    "1.  **List APIs:** Modify your `display_dashboard` function. After showing the summary, ask the user if they want to see the list of all APIs found. If they say 'yes', loop through `data['entries']` and print the name (`'API'`) and description (`'Description'`) for each one.\n",
    "2.  **Save to File:** Add an option to the dashboard to save the list of API names and their URLs to a file named `{category}_apis.txt`. This will require a new function and more file I/O practice."
   ]
  }
 ],
 "metadata": {
  "kernelspec": {
   "display_name": "Python 3",
   "language": "python",
   "name": "python3"
  },
  "language_info": {
   "codemirror_mode": {
    "name": "ipython",
    "version": 3
   },
   "file_extension": ".py",
   "mimetype": "text/x-python",
   "name": "python",
   "nbconvert_exporter": "python",
   "pygments_lexer": "ipython3",
   "version": "3.8.5"
  }
 },
 "nbformat": 4,
 "nbformat_minor": 4
}