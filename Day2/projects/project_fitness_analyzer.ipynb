{
 "cells": [
  {
   "cell_type": "markdown",
   "metadata": {},
   "source": [
    "# 💪 Mini-Project: Fitness/Workout Log Analyzer\n",
    "\n",
    "Welcome to your final capstone project! Your goal is to build a tool that analyzes a CSV file of workout logs to calculate performance metrics and visualize progress over time. \n",
    "\n",
    "This project will require you to combine skills from across the bootcamp, including **file I/O**, **functions**, **error handling**, **pandas for data manipulation**, and **matplotlib for visualization**."
   ]
  },
  {
   "cell_type": "markdown",
   "metadata": {},
   "source": [
    "--- \n",
    "### Step 0: Create a Sample Workout Log File\n",
    "\n",
    "First, we need some data to analyze. Run the cell below to create a sample `workouts.csv` file. This file simulates a log of several workouts, including the date, exercise, sets, reps, and weight used.\n",
    "\n",
    "**File Format:** `date,exercise_name,sets,reps,weight_kg`"
   ]
  },
  {
   "cell_type": "code",
   "execution_count": null,
   "metadata": {},
   "outputs": [],
   "source": [
    "%%writefile workouts.csv\n",
    "date,exercise_name,sets,reps,weight_kg\n",
    "2025-10-01,Bench Press,3,8,100\n",
    "2025-10-01,Squat,3,10,120\n",
    "2025-10-03,Bench Press,3,9,100\n",
    "2025-10-03,Deadlift,2,5,150\n",
    "2025-10-05,Squat,3,11,120\n",
    "2025-10-08,Bench Press,3,8,102.5\n",
    "2025-10-08,Squat,3,12,120\n",
    "2025-10-10,Deadlift,2,5,155"
   ]
  },
  {
   "cell_type": "markdown",
   "metadata": {},
   "source": [
    "--- \n",
    "### Step 1: Create a Function to Load and Preprocess Data\n",
    "\n",
    "Our first step is to create a function that loads the data from the CSV file and prepares it for analysis. This involves converting data types and creating a new calculated column.\n",
    "\n",
    "**Your Task:**\n",
    "Create a function called `load_and_process_data(filepath)` that:\n",
    "1.  Takes one argument: `filepath` (the path to the CSV file).\n",
    "2.  Uses a **`try-except`** block to handle a `FileNotFoundError`.\n",
    "3.  If the file is found, it should use **`pandas`** to read the CSV into a DataFrame.\n",
    "4.  Use `pd.to_datetime()` to convert the `'date'` column into a proper datetime object.\n",
    "5.  Create a new column called `'total_volume'` by calculating `sets * reps * weight_kg`.\n",
    "6.  The function should return the processed DataFrame. If the file is not found, it should return `None`."
   ]
  },
  {
   "cell_type": "code",
   "execution_count": null,
   "metadata": {},
   "outputs": [],
   "source": [
    "import pandas as pd\n",
    "import matplotlib.pyplot as plt\n",
    "\n",
    "# Write the load_and_process_data function here\n",
    "\n",
    "\n",
    "# --- Test your function ---\n",
    "workout_df = load_and_process_data('workouts.csv')\n",
    "if workout_df is not None:\n",
    "    print(\"Data loaded and processed successfully:\")\n",
    "    print(workout_df.head())\n",
    "    print(\"\\nData types:\")\n",
    "    print(workout_df.info())"
   ]
  },
  {
   "cell_type": "markdown",
   "metadata": {},
   "source": [
    "--- \n",
    "### Step 2: Create a Function for Overall Analysis\n",
    "\n",
    "Next, create a function that takes the processed DataFrame and calculates some overall performance statistics for each exercise.\n",
    "\n",
    "**Your Task:**\n",
    "Create a function called `analyze_workouts(df)` that:\n",
    "1.  Takes one argument: a DataFrame of workout data.\n",
    "2.  Uses the **`.groupby('exercise_name')`** method to perform aggregations.\n",
    "3.  For each exercise, calculate:\n",
    "    * The total volume lifted (`.sum()`).\n",
    "    * The maximum weight lifted (`.max()`).\n",
    "4.  Print a formatted summary report showing these statistics for each exercise."
   ]
  },
  {
   "cell_type": "code",
   "execution_count": null,
   "metadata": {},
   "outputs": [],
   "source": [
    "# Write the analyze_workouts function here\n",
    "\n",
    "\n",
    "# --- Test your function ---\n",
    "if workout_df is not None:\n",
    "    analyze_workouts(workout_df)"
   ]
  },
  {
   "cell_type": "markdown",
   "metadata": {},
   "source": [
    "--- \n",
    "### Step 3: Create a Function to Visualize Progress\n",
    "\n",
    "The most powerful part of analysis is visualization. This function will plot the progress of a specific exercise over time.\n",
    "\n",
    "**Your Task:**\n",
    "Create a function called `plot_progress(df, exercise_name)` that:\n",
    "1.  Takes two arguments: the DataFrame and the name of an exercise to plot.\n",
    "2.  Filters the DataFrame to get the data for only the specified `exercise_name`.\n",
    "3.  Uses **`matplotlib`** to create a **line chart**.\n",
    "4.  The x-axis should be the `'date'` and the y-axis should be the `'total_volume'`.\n",
    "5.  Customize the plot with a title (e.g., \"Progress for Bench Press\"), and labels for the x and y axes.\n",
    "6.  Use `plt.show()` to display the plot."
   ]
  },
  {
   "cell_type": "code",
   "execution_count": null,
   "metadata": {},
   "outputs": [],
   "source": [
    "# Write the plot_progress function here\n",
    "\n",
    "\n",
    "# --- Test your function ---\n",
    "if workout_df is not None:\n",
    "    plot_progress(workout_df, 'Bench Press')"
   ]
  },
  {
   "cell_type": "markdown",
   "metadata": {},
   "source": [
    "--- \n",
    "### Step 4: Putting It All Together 🧩\n",
    "\n",
    "Finally, create a main script that uses all your functions to create an interactive analysis tool.\n",
    "\n",
    "**Your Task:**\n",
    "1.  Create a `main()` function.\n",
    "2.  Inside `main()`, call `load_and_process_data()` to get the DataFrame.\n",
    "3.  If the DataFrame is loaded successfully:\n",
    "    * Call `analyze_workouts()` to print the overall summary.\n",
    "    * Get a list of unique exercise names from the DataFrame (Hint: `df['exercise_name'].unique()`).\n",
    "    * Use `input()` to prompt the user to choose one of the available exercises to visualize.\n",
    "    * Call `plot_progress()` with the user's choice.\n",
    "4.  If the DataFrame fails to load, the program should end gracefully."
   ]
  },
  {
   "cell_type": "code",
   "execution_count": null,
   "metadata": {},
   "outputs": [],
   "source": [
    "# You will need all your functions from the previous steps here.\n",
    "\n",
    "def main():\n",
    "    # Write the main application logic here\n",
    "    pass\n",
    "\n",
    "# --- Run the Application ---\n",
    "main()"
   ]
  },
  {
   "cell_type": "markdown",
   "metadata": {},
   "source": [
    "--- \n",
    "### Bonus Challenge 🚀\n",
    "\n",
    "If you finish early, enhance your `plot_progress` function.\n",
    "\n",
    "1.  Modify the function to create **two subplots** stacked vertically (`plt.subplots(2, 1, ...)`).\n",
    "2.  In the top subplot, plot the **line chart** of `total_volume` over `date` as before.\n",
    "3.  In the bottom subplot, create a **bar chart** showing the `weight_kg` used for that exercise over `date`.\n",
    "4.  Make sure both plots have appropriate titles and labels."
   ]
  }
 ],
 "metadata": {
  "kernelspec": {
   "display_name": "Python 3",
   "language": "python",
   "name": "python3"
  },
  "language_info": {
   "codemirror_mode": {
    "name": "ipython",
    "version": 3
   },
   "file_extension": ".py",
   "mimetype": "text/x-python",
   "name": "python",
   "nbconvert_exporter": "python",
   "pygments_lexer": "ipython3",
   "version": "3.8.5"
  }
 },
 "nbformat": 4,
 "nbformat_minor": 4
}