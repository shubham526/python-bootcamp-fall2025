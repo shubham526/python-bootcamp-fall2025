{
 "cells": [
  {
   "cell_type": "markdown",
   "metadata": {},
   "source": [
    "# 💰 Mini-Project: Personal Finance Tracker\n",
    "\n",
    "Welcome to your capstone project! The goal is to build a command-line application that allows a user to track their income and expenses, save the data to a file, and generate a summary report. \n",
    "\n",
    "This project will require you to integrate almost everything you've learned: **classes**, **functions**, **file I/O with `json`**, **error handling with `try-except`**, **dictionaries**, **lists**, and **loops**."
   ]
  },
  {
   "cell_type": "markdown",
   "metadata": {},
   "source": [
    "--- \n",
    "### Step 1: Create the `Transaction` Class\n",
    "\n",
    "First, we need a way to structure our data. A class is perfect for this. We will create a `Transaction` class to represent a single financial event (either income or an expense).\n",
    "\n",
    "**Your Task:**\n",
    "1.  Create a class named `Transaction`.\n",
    "2.  The `__init__()` method should accept `type` (a string like 'income' or 'expense'), `category` (a string like 'Salary' or 'Groceries'), and `amount` (a number).\n",
    "3.  Store these three pieces of information as attributes.\n",
    "4.  Add a method called `to_dict()` that returns the transaction's data as a **dictionary**. This will be very useful when we save the data to a JSON file."
   ]
  },
  {
   "cell_type": "code",
   "execution_count": null,
   "metadata": {},
   "outputs": [],
   "source": [
    "# Write the Transaction class here\n",
    "\n",
    "\n",
    "# --- Test your class ---\n",
    "test_expense = Transaction('expense', 'Groceries', 55.75)\n",
    "print(f\"Testing the class attributes: {test_expense.type}, {test_expense.category}, {test_expense.amount}\")\n",
    "print(f\"Testing the to_dict() method: {test_expense.to_dict()}\")"
   ]
  },
  {
   "cell_type": "markdown",
   "metadata": {},
   "source": [
    "--- \n",
    "### Step 2: Create Functions for File Handling\n",
    "\n",
    "To make our data persistent (so it's not lost when the program closes), we need to save it to a file. We'll use the `json` module for this. Let's create two modular functions to handle loading and saving.\n",
    "\n",
    "**Your Task:**\n",
    "\n",
    "1.  **`load_transactions(filepath)` function:**\n",
    "    * This function should take one argument: `filepath` (e.g., `'transactions.json'`).\n",
    "    * Use a **`try-except`** block to handle a `FileNotFoundError`.\n",
    "    * If the file exists, it should open it, use `json.load()` to get the list of transactions, and return it.\n",
    "    * If the file doesn't exist, it should return an empty list `[]`.\n",
    "\n",
    "2.  **`save_transactions(filepath, transactions)` function:**\n",
    "    * This function should take two arguments: the `filepath` and a list of transaction dictionaries.\n",
    "    * It should open the `filepath` in **write mode** (`'w'`).\n",
    "    * Use `json.dump()` to save the list to the file."
   ]
  },
  {
   "cell_type": "code",
   "execution_count": null,
   "metadata": {},
   "outputs": [],
   "source": [
    "import json\n",
    "\n",
    "# Write the load_transactions function here\n",
    "\n",
    "\n",
    "# Write the save_transactions function here\n",
    "\n",
    "\n",
    "# --- Test your functions ---\n",
    "test_data = [{'type': 'income', 'category': 'Job', 'amount': 2000}]\n",
    "test_filepath = 'test_transactions.json'\n",
    "\n",
    "# Test saving\n",
    "save_transactions(test_filepath, test_data)\n",
    "print(f\"Saved test data to {test_filepath}\")\n",
    "\n",
    "# Test loading\n",
    "loaded_data = load_transactions(test_filepath)\n",
    "print(f\"Loaded data: {loaded_data}\")"
   ]
  },
  {
   "cell_type": "markdown",
   "metadata": {},
   "source": [
    "--- \n",
    "### Step 3: Build the Main Application\n",
    "\n",
    "Now it's time to build the user-facing part of the application. This will be an interactive loop that lets the user manage their finances.\n",
    "\n",
    "**Your Task:**\n",
    "Create a `main()` function that contains the application's primary logic.\n",
    "\n",
    "1.  Define a `filepath` variable for your JSON file.\n",
    "2.  Call `load_transactions()` to get any existing data.\n",
    "3.  Start a `while True` loop that presents the user with a menu of options:\n",
    "    * `1. Add Income`\n",
    "    * `2. Add Expense`\n",
    "    * `3. View Report`\n",
    "    * `4. Quit`\n",
    "4.  Use `input()` to get the user's choice and use **conditional logic** (`if/elif/else`) to handle it.\n",
    "5.  **For Adding Transactions (Income/Expense):**\n",
    "    * Prompt the user for the `category` and `amount`.\n",
    "    * Use a **`try-except`** block to make sure the `amount` is a valid number (`float`). If not, print an error message.\n",
    "    * Create a new `Transaction` instance.\n",
    "    * Append the transaction's dictionary (using `.to_dict()`) to your list of transactions.\n",
    "    * Call `save_transactions()` immediately to save the change.\n",
    "6.  **For Viewing the Report:**\n",
    "    * Create a separate function `generate_report(transactions)`.\n",
    "    * Inside this function, loop through the list of transactions to calculate `total_income`, `total_expenses`, and the final `balance`.\n",
    "    * Print a nicely formatted summary.\n",
    "7.  **For Quitting:** Print a goodbye message and use `break` to exit the loop."
   ]
  },
  {
   "cell_type": "code",
   "execution_count": null,
   "metadata": {},
   "outputs": [],
   "source": [
    "# You will need all your code from the previous steps here.\n",
    "# (Transaction class, load_transactions, save_transactions)\n",
    "\n",
    "def generate_report(transactions):\n",
    "    # Write the report generation logic here\n",
    "    pass\n",
    "\n",
    "def main():\n",
    "    # Write the main application loop here\n",
    "    pass\n",
    "\n",
    "# --- Run the Application ---\n",
    "# This final line will start your program!\n",
    "main()"
   ]
  },
  {
   "cell_type": "markdown",
   "metadata": {},
   "source": [
    "--- \n",
    "### Bonus Challenge 🚀\n",
    "\n",
    "If you finish early, enhance your `generate_report` function.\n",
    "\n",
    "1.  After printing the total income and expenses, calculate the total spending **per category**.\n",
    "2.  Use a **dictionary** to store the totals for each expense category as you loop through the transactions.\n",
    "3.  Print a breakdown of expenses by category (e.g., `Groceries: $250.50`, `Travel: $150.00`)."
   ]
  }
 ],
 "metadata": {
  "kernelspec": {
   "display_name": "Python 3",
   "language": "python",
   "name": "python3"
  },
  "language_info": {
   "codemirror_mode": {
    "name": "ipython",
    "version": 3
   },
   "file_extension": ".py",
   "mimetype": "text/x-python",
   "name": "python",
   "nbconvert_exporter": "python",
   "pygments_lexer": "ipython3",
   "version": "3.8.5"
  }
 },
 "nbformat": 4,
 "nbformat_minor": 4
}